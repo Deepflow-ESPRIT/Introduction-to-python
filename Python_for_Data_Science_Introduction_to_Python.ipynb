{
  "cells": [
    {
      "cell_type": "markdown",
      "metadata": {
        "id": "p08Qu9pcsbSw"
      },
      "source": [
        "<center>\n",
        "<img src=\"https://drive.google.com/uc?id=1OGMWvsAkqw2oP5Bxx7VJ11vKQ4g2wiUv\" height=\"300\" width=\"500\" alt=\"deepflow logo\"/>\n",
        "<h1> Python for Data Science : Introduction to Python 🐍 </h1>\n",
        "</center>\n",
        "\n",
        "⭐ **About this workshop** :  \n",
        "This workshop takes a no-prerequisites approach to teaching the basics of Python through practice. It aims to keep it short and efficient without diving so much into the details. It is suitable for beginners starting with machine learning, data science and general-purpose programming.\n",
        " \n",
        "🎯 **Learning Objectives** :  \n",
        "After completing this workshop you will be able to:\n",
        "*   Write basic code in Python\n",
        "*   Work with various built-in data types\n",
        "*   Use variables to perform operations\n",
        "*   Work with various built-in data structures: lists, tuples, sets, and dictionaries.\n",
        "*   Use loops and conditions\n",
        "*   Write and call functions\n",
        "*   Use Lambda functions\n",
        " \n",
        "\n"
      ]
    },
    {
      "cell_type": "markdown",
      "metadata": {
        "id": "cA7CF2f-5SeB"
      },
      "source": [
        "#  1. Hello World!\n",
        "\n",
        "\n",
        "\n"
      ]
    },
    {
      "cell_type": "markdown",
      "metadata": {
        "id": "-2qXT2V6yLDJ"
      },
      "source": [
        "⚠️ To execute the Python code in the code cell below, click on the cell to select it and press **<kbd>Shift</kbd> + <kbd>Enter</kbd>.**\n",
        "\n"
      ]
    },
    {
      "cell_type": "markdown",
      "metadata": {
        "id": "zroxEpwkTzsC"
      },
      "source": [
        "### 1.1 Your First Python Code\n"
      ]
    },
    {
      "cell_type": "code",
      "execution_count": null,
      "metadata": {
        "id": "0nEWmWsDuytK"
      },
      "outputs": [],
      "source": [
        "# Simple print() method\n",
        "print('Hello world! I am ELIZA, the first chatbot ever created in the 1960s!')\n",
        "\n",
        "# Using format() method within print()\n",
        "# The brackets {} will be replaced by the values within format() in the same order as they were passed.\n",
        "print('Hello world! I am {}, the first chatbot ever created in the {}s!'.format('ELIZA', 1960))"
      ]
    },
    {
      "cell_type": "markdown",
      "metadata": {
        "id": "M5wUZ-S76Kop"
      },
      "source": [
        "### 1.2 Python Version\n"
      ]
    },
    {
      "cell_type": "markdown",
      "metadata": {
        "id": "4f5askyA6Zxo"
      },
      "source": [
        "◾️ Python 3 is the most used Python version, in this workshop we will be using it exclusively.  \n",
        "◾️ How do we know that our notebook is executed by a Python 3 runtime? Let's ask Python directly!"
      ]
    },
    {
      "cell_type": "code",
      "execution_count": null,
      "metadata": {
        "id": "aabYLClZMljc"
      },
      "outputs": [],
      "source": [
        "!python3 --version "
      ]
    },
    {
      "cell_type": "markdown",
      "metadata": {
        "id": "TzoFCfFZ7F66"
      },
      "source": [
        "### 1.3 Comments in Python\n"
      ]
    },
    {
      "cell_type": "markdown",
      "metadata": {
        "id": "uvKSiAy97V0S"
      },
      "source": [
        "◾️ To write comments in Python, use the number symbol # before writing your comment. When you run your code, Python will ignore everything past the # on a given line."
      ]
    },
    {
      "cell_type": "code",
      "execution_count": null,
      "metadata": {
        "id": "Kd4GgLyJ6wpp"
      },
      "outputs": [],
      "source": [
        "print('Alan Turing is the founding father of artificial intelligence.') \n",
        "# print('Alan Turing was one of the most influential British figures of the 20th century') "
      ]
    },
    {
      "cell_type": "code",
      "execution_count": null,
      "metadata": {
        "id": "c2ByTMAR768h"
      },
      "outputs": [],
      "source": [
        "\"\"\"\n",
        "This is a comment\n",
        "written in\n",
        "more than just one line\n",
        "print('Alan Turing was one of the most influential British figures of the 20th century')\n",
        "\"\"\"\n",
        "print('Alan Turing is the founding father of artificial intelligence.')"
      ]
    },
    {
      "cell_type": "markdown",
      "metadata": {
        "id": "Gtmq-gFV9M0B"
      },
      "source": [
        "# 2. Data Types\n"
      ]
    },
    {
      "cell_type": "markdown",
      "metadata": {
        "id": "cjjN5BwhSrKa"
      },
      "source": [
        "### 2.1 Basic Types"
      ]
    },
    {
      "cell_type": "markdown",
      "metadata": {
        "id": "-85dLW3Y9JiR"
      },
      "source": [
        "◾️ Let's start with the most common data types: strings, integers, floats and booleans.  \n",
        "◾️ We can check the type of an expression by using the built-in type() function. Python refers to integers as int, floats as float, strings as str, and booleans as bool."
      ]
    },
    {
      "cell_type": "code",
      "execution_count": null,
      "metadata": {
        "id": "G1Z8qP3X9dQX"
      },
      "outputs": [],
      "source": [
        "# Integers can be negative or positive numbers:\n",
        "print(1950, \"is of \", type(1950)) "
      ]
    },
    {
      "cell_type": "code",
      "execution_count": null,
      "metadata": {
        "id": "KDNC3RqE9kTJ"
      },
      "outputs": [],
      "source": [
        "# Floats represent real numbers. \n",
        "# They include integer numbers and numbers with decimals. \n",
        "# They are represented in code by floating point numbers\n",
        "\n",
        "print(1950.0, \"is of \", type(1950.0))"
      ]
    },
    {
      "cell_type": "code",
      "execution_count": null,
      "metadata": {
        "id": "E74dj6Zd9lfx"
      },
      "outputs": [],
      "source": [
        "# A string is represented in Python by either using single quotes '123' or double quotes \"123\".\n",
        "\n",
        "print(\"1950.0\", \"is of \", type(\"1950.0\"))"
      ]
    },
    {
      "cell_type": "code",
      "execution_count": null,
      "metadata": {
        "id": "70k6Z1G_GB6K"
      },
      "outputs": [],
      "source": [
        "# Boolean objects can take on one of two values: True or False:\n",
        "\n",
        "print(True, \"is of \", type(True))"
      ]
    },
    {
      "cell_type": "markdown",
      "metadata": {
        "id": "S_kiv3lAAO6I"
      },
      "source": [
        "### 2.2 Type Casting\n"
      ]
    },
    {
      "cell_type": "markdown",
      "metadata": {
        "id": "tNi646rqAZuB"
      },
      "source": [
        "◾️ We can change the data type of an object using built-in functions like int(), float(), str(), ... to perform explicit type conversion."
      ]
    },
    {
      "cell_type": "code",
      "execution_count": null,
      "metadata": {
        "id": "RxyXIb4BAWT4"
      },
      "outputs": [],
      "source": [
        "# Using float() : Convert a string or number to a floating point number, if possible.\n",
        "\n",
        "print(float(9)) # int --> float\n",
        "print(float(\"9.0\")) # string --> float"
      ]
    },
    {
      "cell_type": "code",
      "execution_count": null,
      "metadata": {
        "id": "A_fgj8spBbMR"
      },
      "outputs": [],
      "source": [
        "# Using int() : Convert a number or string to an integer\n",
        "\n",
        "# When we cast a float into an integer, we'll lose the decimal information.\n",
        "print(int(9.6)) # float --> integer\n",
        "print(int(\"9\")) # string --> integer\n"
      ]
    },
    {
      "cell_type": "code",
      "execution_count": null,
      "metadata": {
        "id": "ITTWVoIpjEx_"
      },
      "outputs": [],
      "source": [
        "# Using str(): Convert a float or an integer to a string\n",
        "\n",
        "print(str(10)) # integer --> string\n",
        "print(str(10.0)) # float --> string"
      ]
    },
    {
      "cell_type": "code",
      "execution_count": null,
      "metadata": {
        "id": "6agBj2rLEn6i"
      },
      "outputs": [],
      "source": [
        "# If we try to convert string that has characters other than numbers, we'll get an error.\n",
        "\n",
        "int('1abc') # 1abc is not valid for conversion"
      ]
    },
    {
      "cell_type": "markdown",
      "metadata": {
        "id": "eKdKANOajw8g"
      },
      "source": [
        "◾️ We can also convert Boolean objects to integer or floats, and vice versa!"
      ]
    },
    {
      "cell_type": "markdown",
      "metadata": {
        "id": "VkoQ7_HOPWor"
      },
      "source": [
        "# 3. Variables\n"
      ]
    },
    {
      "cell_type": "markdown",
      "metadata": {
        "id": "-RCz21r_WjmE"
      },
      "source": [
        "◾️ A variable is a reserved location in the memory used to store data.    \n",
        "◾️ Python is dynamically typed, so there is no need to explicitly define the variable data type like in other programming languages.  \n",
        "◾️ The declaration happens automatically when we assign a value to the variable."
      ]
    },
    {
      "cell_type": "code",
      "execution_count": null,
      "metadata": {
        "id": "0XTurOzpWEKU"
      },
      "outputs": [],
      "source": [
        "# Creating a variable and assigning a value\n",
        "\n",
        "name = \"Alan Turing\" # a string variable\n",
        "birth_year = 1912 # an integer variable\n",
        "is_alive = False # a boolean variable\n",
        "\n",
        "print(\"{} was born in {}\".format(name, birth_year))"
      ]
    },
    {
      "cell_type": "markdown",
      "metadata": {
        "id": "AVzZcx01pYHc"
      },
      "source": [
        "◾️ Everything in Python is treated as an object so every variable is nothing but an object in Python. "
      ]
    },
    {
      "cell_type": "code",
      "execution_count": null,
      "metadata": {
        "id": "krqhvnFLpZZb"
      },
      "outputs": [],
      "source": [
        "# variable name is an object of class str (which represents the string type)\n",
        "print(name, type(name)) \n",
        "\n",
        "# we can also re-assign a new value to varible is_alive with a different data type\n",
        "is_alive = \"I am not alive!\"\n",
        "print(is_alive, type(is_alive))"
      ]
    },
    {
      "cell_type": "code",
      "execution_count": null,
      "metadata": {
        "id": "wE_cwj5pZ9ts"
      },
      "outputs": [],
      "source": [
        "# Assign multiple values to multiple variables\n",
        "n,m = 1, \"Hello\" \n",
        "\n",
        "# Assign the same value to multiple variables\n",
        "x = y = z = 1 \n",
        "\n",
        "print(\"n=\",n,\"m=\",m)\n",
        "print(\"x =\",x,\"y =\",y,\"z =\",z)"
      ]
    },
    {
      "cell_type": "markdown",
      "metadata": {
        "id": "7eB994tSdXsc"
      },
      "source": [
        "# 4. Data Structures "
      ]
    },
    {
      "cell_type": "markdown",
      "metadata": {
        "id": "Y3BDDrR9l1Ij"
      },
      "source": [
        "◾️ Let's imagine you received movie recommendations from your friends and wanted to store all of them into a table, with specific information about each movie. Here's what you've got :\n",
        "\n",
        "<center>\n",
        "<table>\n",
        "  <tr>\n",
        "    <th>ID</th>\n",
        "    <th>Title</th> \n",
        "    <th>Genre</th>\n",
        "    <th>Release Year</th>\n",
        "    <th>Rating</th>\n",
        "  </tr>\n",
        "  <tr>\n",
        "    <td>1</td>\n",
        "    <td>Interstellar</td> \n",
        "    <td>Science Fiction</td>\n",
        "    <td>2014</td>\n",
        "    <td>8.5</td>\n",
        "  </tr>\n",
        "  <tr>\n",
        "    <td>2</td>\n",
        "    <td>Jumanji</td> \n",
        "    <td>Adventure</td>\n",
        "    <td>1995</td>\n",
        "    <td>7.5</td>\n",
        "  </tr>\n",
        "  <tr>\n",
        "    <td>3</td>\n",
        "    <td>The Godfather</td> \n",
        "    <td>Crime/Drama</td>\n",
        "    <td>1972</td>\n",
        "    <td>9</td>\n",
        "  </tr>\n",
        "  <tr>\n",
        "    <td>4</td>\n",
        "    <td>The Dark Knight</td> \n",
        "    <td>Action/Adventure</td>\n",
        "    <td>2008</td>\n",
        "    <td>8</td>\n",
        "  </tr>\n",
        "  <tr>\n",
        "    <td>5</td>\n",
        "    <td>The Hustle</td> \n",
        "    <td>Comedy</td>\n",
        "    <td>2019</td>\n",
        "    <td>7</td>\n",
        "  </tr>\n",
        "  <tr>\n",
        "    <td>6</td>\n",
        "    <td>The Imitation Game</td> \n",
        "    <td>War/Drama</td>\n",
        "    <td>2014</td>\n",
        "    <td>8.5</td>\n",
        "  </tr>\n",
        "\n",
        "</table>\n",
        "</center>"
      ]
    },
    {
      "cell_type": "markdown",
      "metadata": {
        "id": "sXEdCfIndb4c"
      },
      "source": [
        "### 4.1 Lists\n",
        "\n",
        "◾️ A list is a sequenced collection of different objects such as integers, strings, and can even include lists in it.  \n",
        "◾️ Each element has an index in the list, and we can use it to access items within the list."
      ]
    },
    {
      "cell_type": "code",
      "execution_count": null,
      "metadata": {
        "id": "ByDAAYKod2xT"
      },
      "outputs": [],
      "source": [
        "# Let's create our first list, we type the elements separated by commas within []\n",
        "\n",
        "movie_1 = [1, 'Interstellar',\t'Science Fiction',\t2014,\t8.5]\n",
        "print(movie_1)\n",
        "print(type(movie_1))"
      ]
    },
    {
      "cell_type": "code",
      "execution_count": null,
      "metadata": {
        "id": "KxlIHOAzs2tC"
      },
      "outputs": [],
      "source": [
        "# How can we store the other movies? \n",
        "# --> We can define a list that stores all movies!\n",
        "\n",
        "# Let's define an empty list that will contain our movies:\n",
        "movies = []\n",
        "movie_2 = [2,\t'Jumanji',\t'Adventure',\t1995,\t7.5]\n",
        "movie_3 = [3,\t'The Godfather',\t'Crime/Drama',\t1972,\t9]\n",
        "movie_4 = [4,\t'The Dark Knight',\t'Action/Adventure',\t2008,\t8]\n",
        "movie_5 = [5,\t'The Hustle',\t'Comedy',\t2019,\t7]\n",
        "movie_6 = [6,\t'The Imitation Game',\t'War/Drama',\t2014,\t8.5]\n",
        "\n",
        "# let's check our movies list!\n",
        "print(movies)"
      ]
    },
    {
      "cell_type": "code",
      "execution_count": null,
      "metadata": {
        "id": "ROsZbEM5tw-Z"
      },
      "outputs": [],
      "source": [
        "# We should add our movies to the movies list, we will get a list of lists.\n",
        "\n",
        "# append() adds a new element at the end of the list\n",
        "movies.append(movie_1)\n",
        "movies.append(movie_2)\n",
        "movies.append(movie_3)\n",
        "movies.append(movie_4)\n",
        "movies.append(movie_5)\n",
        "movies.append(movie_6)\n",
        "print(movies)"
      ]
    },
    {
      "cell_type": "markdown",
      "metadata": {
        "id": "hVLngJ8kukgr"
      },
      "source": [
        "⚠️ Indexing starts from 0 in Python!"
      ]
    },
    {
      "cell_type": "code",
      "execution_count": null,
      "metadata": {
        "id": "O4hs5Z8bizZD"
      },
      "outputs": [],
      "source": [
        "# Let's print the name of the first movie in the movies list \n",
        "\n",
        "print(\"The first movie name is\",movies[0][1])"
      ]
    },
    {
      "cell_type": "code",
      "execution_count": null,
      "metadata": {
        "id": "hGvvFIUsvCWx"
      },
      "outputs": [],
      "source": [
        "# Can you print the fourth movie name? \n",
        "# Uncomment the line below and replace ______ with your answer!\n",
        "# print(\"The fourth movie name is \", ______)"
      ]
    },
    {
      "cell_type": "code",
      "execution_count": null,
      "metadata": {
        "id": "fWgGDfPKwBYY"
      },
      "outputs": [],
      "source": [
        "# Let's print the name of the last movie in the list by using negative indexes!\n",
        "\n",
        "print(\"The last movie name is\",movies[-1][1])"
      ]
    },
    {
      "cell_type": "code",
      "execution_count": null,
      "metadata": {
        "id": "HQFSBik4vb8b"
      },
      "outputs": [],
      "source": [
        "# How many movies do we have in the list?\n",
        "\n",
        "print(\"We have\", len(movies),\"movies!\" )"
      ]
    },
    {
      "cell_type": "markdown",
      "metadata": {
        "id": "ed_xJV99xCc7"
      },
      "source": [
        "What if we want to retrieve the last two movies of the list? Python has a brilliant idea: Slicing"
      ]
    },
    {
      "cell_type": "code",
      "execution_count": null,
      "metadata": {
        "id": "MhdXo1nyxsDq"
      },
      "outputs": [],
      "source": [
        "# Let's slice the list to get last two movies!\n",
        "# slicing operation returns a new list with the last two movies from the movies list\n",
        "last_two_movies = movies[4:6] \n",
        "print(last_two_movies, type(last_two_movies))\n",
        "\n",
        "# We can also do this!\n",
        "print(movies[-2:])\n"
      ]
    },
    {
      "cell_type": "markdown",
      "metadata": {
        "id": "QP0_B8LXy0lB"
      },
      "source": [
        "Now we want to remove a movie from the list:"
      ]
    },
    {
      "cell_type": "code",
      "execution_count": null,
      "metadata": {
        "id": "8mqgKIGF0Jk0"
      },
      "outputs": [],
      "source": [
        "# Deleting last element based on index\n",
        "\n",
        "print(\"Before: number of movies =\", len(movies))\n",
        "del(movies[-1])\n",
        "print(\"After: number of movies =\", len(movies))"
      ]
    },
    {
      "cell_type": "markdown",
      "metadata": {
        "id": "DyOq2cxE2mmh"
      },
      "source": [
        "We want to remove the rating of the second movie:"
      ]
    },
    {
      "cell_type": "code",
      "execution_count": null,
      "metadata": {
        "id": "0mydDlh40oSr"
      },
      "outputs": [],
      "source": [
        "# Deleting an element using its value\n",
        "\n",
        "second_movie = movies[1]\n",
        "print('Before:', second_movie)\n"
      ]
    },
    {
      "cell_type": "code",
      "execution_count": null,
      "metadata": {
        "id": "vXDsgyYD28kR"
      },
      "outputs": [],
      "source": [
        "second_movie.remove(7.5)\n",
        "print('After:', second_movie)"
      ]
    },
    {
      "cell_type": "code",
      "execution_count": null,
      "metadata": {
        "id": "G1KF5imW5TpB"
      },
      "outputs": [],
      "source": [
        "# BONUS:\n",
        "# We can also use pop() which removes last element of a list\n",
        "# second_movie.pop()"
      ]
    },
    {
      "cell_type": "markdown",
      "metadata": {
        "id": "OhS4u3PstR2Y"
      },
      "source": [
        "Let's change the rating of the first movie:"
      ]
    },
    {
      "cell_type": "code",
      "execution_count": null,
      "metadata": {
        "id": "bziG7exltaUo"
      },
      "outputs": [],
      "source": [
        "# Access and assign new values to elements\n",
        "\n",
        "new_rating = 10\n",
        "print('Before:', movies[0][4])\n",
        "movies[0][4] = new_rating\n",
        "print('After:', movies[0][4])"
      ]
    },
    {
      "cell_type": "markdown",
      "metadata": {
        "id": "Rbe5utjZf6Br"
      },
      "source": [
        "### 4.2 Tuples\n",
        "\n",
        "◾️ Tuple is an ordered sequence of objects same as a list.  \n",
        "◾️ Tuples are immutable, once created they cannot be modified.  \n",
        "◾️ Tuples are used to write-protect data and are usually faster than lists as they cannot change dynamically."
      ]
    },
    {
      "cell_type": "code",
      "execution_count": null,
      "metadata": {
        "id": "erKdKFIkgXJU"
      },
      "outputs": [],
      "source": [
        "# Let's create our first tuple, we type the elements separated by commas within ()\n",
        "\n",
        "movie = (1, 'Interstellar',\t'Science Fiction',\t2014,\t8.5)\n",
        "print(movie)\n",
        "print(type(movie))"
      ]
    },
    {
      "cell_type": "code",
      "execution_count": null,
      "metadata": {
        "id": "J1dndjaM85-K"
      },
      "outputs": [],
      "source": [
        "# Access values of elements \n",
        "\n",
        "print(\"Movie Title:\", movie[1])\n",
        "print('Genre:', movie[2])"
      ]
    },
    {
      "cell_type": "markdown",
      "metadata": {
        "id": "XEGK7ZCr-RZb"
      },
      "source": [
        "⚠️ Unlike lists, when using tuples, we can't change the value of an element\n"
      ]
    },
    {
      "cell_type": "code",
      "execution_count": null,
      "metadata": {
        "id": "FNL50PgLwGxK"
      },
      "outputs": [],
      "source": [
        "# Let's try changing the movie genre\n",
        "movie[2] = \"Action\""
      ]
    },
    {
      "cell_type": "markdown",
      "metadata": {
        "id": "DnVH678d7WGz"
      },
      "source": [
        "◾️ Lists and tuples share some common operations like using len(), slicing, and accessing an element with index.  \n",
        "◾️ Operations that add items or remove items are not possible with tuples."
      ]
    },
    {
      "cell_type": "code",
      "execution_count": null,
      "metadata": {
        "id": "KrIB1hAF9_26"
      },
      "outputs": [],
      "source": [
        "# Get index of an element using its value\n",
        "\n",
        "tup = (\"Alan\",1912,\"Turing\",\"Dead\",1912)\n",
        "print(\"Index of the elemnt {} is {}\".format(1912,tup.index(1912)))\n",
        "\n",
        "# Count the number of occurrences of a value in a tuple\n",
        "print(tup.count(1912))  \n"
      ]
    },
    {
      "cell_type": "markdown",
      "metadata": {
        "id": "6SUacq9t6rzF"
      },
      "source": [
        "#### ⭐ Bonus"
      ]
    },
    {
      "cell_type": "code",
      "execution_count": null,
      "metadata": {
        "id": "eVxwpT9q7zMK"
      },
      "outputs": [],
      "source": [
        "# We can concatenate multiple tuples \n",
        "\n",
        "tuple1 = ( 67, 11, 13, 41, 17, 71, 59, 7, 61, 67, 2, 3 )\n",
        "tuple2 = tuple1 + ( 97, 41 )\n",
        "print(tuple2)"
      ]
    },
    {
      "cell_type": "code",
      "execution_count": null,
      "metadata": {
        "id": "jA5rbIxA80IT"
      },
      "outputs": [],
      "source": [
        "# We can sort tuples (only when compatible data types are used in the tuple)\n",
        "\n",
        "sorted_list = sorted(tuple2) # by default sorted() returns a list, but we can convert it into a tuple\n",
        "sorted_tuple = tuple(sorted_list)\n",
        "print(sorted_tuple)\n",
        "print(type(sorted_tuple))"
      ]
    },
    {
      "cell_type": "markdown",
      "metadata": {
        "id": "Av1kB1UOgPOb"
      },
      "source": [
        "### 4.3 Sets \n",
        "\n",
        "◾️ Set is an unordered collection of unique items without indexing.  \n",
        "◾️ Set is defined by values separated by comma inside braces { }. Items in a set are not ordered."
      ]
    },
    {
      "cell_type": "code",
      "execution_count": null,
      "metadata": {
        "id": "ajN0yiuqgWZs"
      },
      "outputs": [],
      "source": [
        "# Let's create our first Set, we type the elements separated by commas within {}\n",
        "\n",
        "movie_1 = {1, 'Interstellar',\t'Science Fiction',\t2014, 2014,\t8.5}\n",
        "print(movie_1)\n",
        "print(type(movie_1))\n",
        "\n",
        "# Note that only one element of value 2014 will be kept, sets have unique values. They eliminate duplicates.\n",
        "# You may also notice that the order of elements changed"
      ]
    },
    {
      "cell_type": "markdown",
      "metadata": {
        "id": "9sQn_JSy9ZXm"
      },
      "source": [
        "\n",
        "If there are no indexes in sets, how can we access an element?  \n",
        "◾️ Unlike lists and tuples, we can't access or change the value of an element using indexes or slicing operations.  \n",
        "◾️ We can add/remove elements:"
      ]
    },
    {
      "cell_type": "code",
      "execution_count": null,
      "metadata": {
        "id": "T-j1IWaH-eRI"
      },
      "outputs": [],
      "source": [
        "# add an element to the set\n",
        "\n",
        "movie_1.add(\"I like this movie!\")\n",
        "print(movie_1)\n"
      ]
    },
    {
      "cell_type": "code",
      "execution_count": null,
      "metadata": {
        "id": "SH6ixsmcVkoJ"
      },
      "outputs": [],
      "source": [
        "# remove an element from the set\n",
        "\n",
        "movie_1.remove(\"I like this movie!\")\n",
        "print(movie_1)"
      ]
    },
    {
      "cell_type": "markdown",
      "metadata": {
        "id": "_2QJWQQnWWC5"
      },
      "source": [
        "#### ⭐ Bonus"
      ]
    },
    {
      "cell_type": "code",
      "execution_count": null,
      "metadata": {
        "id": "4O0DKyplWW0Z"
      },
      "outputs": [],
      "source": [
        "# We can add many elements to a set using a list of elements\n",
        "\n",
        "my_comments = set()\n",
        "my_comments.update([\"I like this!\", \"Best movie ever!\", \"I recommend it\"])\n",
        "print(my_comments)"
      ]
    },
    {
      "cell_type": "markdown",
      "metadata": {
        "id": "cF2TYxuQgXlb"
      },
      "source": [
        "### 4.4 Dictionaries\n",
        "\n",
        "◾️ Dictionary is an unordered collection of key-value pairs.  \n",
        "◾️ Values can be of any type, and can be repeated.  \n",
        "◾️ Keys must be of immutable type like (string, number or tuple with immutable elements) and must be **UNIQUE**.  \n",
        "\n",
        "\n"
      ]
    },
    {
      "cell_type": "code",
      "execution_count": null,
      "metadata": {
        "id": "l2wopPHXgi2z"
      },
      "outputs": [],
      "source": [
        "# Let's create our first Dictionary, we type the elements separated by commas within {}\n",
        "\n",
        "movie_1 = {\n",
        "    # key:value\n",
        "    \"ID\":1,\n",
        "    \"Title\":'Interstellar',\t\n",
        "    \"Genre\":'Science Fiction',\t\n",
        "    \"Release Year\":2014,\t\n",
        "    \"Rating\":8.5\n",
        "    }"
      ]
    },
    {
      "cell_type": "code",
      "execution_count": null,
      "metadata": {
        "id": "kMHyLXbVkYAt"
      },
      "outputs": [],
      "source": [
        "# Let's retrieve values using [key], this method throws an error if the key is not found.\n",
        "print(\"Title:\", movie_1[\"Title\"])\n",
        "print(\"Genre:\", movie_1[\"Genre\"])\n",
        "\n",
        "# We can also use get(), this method returns None if the key is not found.\n",
        "print(\"Rating:\", movie_1.get(\"Rating\"))"
      ]
    },
    {
      "cell_type": "code",
      "execution_count": null,
      "metadata": {
        "id": "aWk_1Eq9EYUx"
      },
      "outputs": [],
      "source": [
        "# Adding a new item by defining a new pair of key:value\n",
        "movie_1[\"Comment\"] = \"I like this movie\"\n",
        "print(\"Comment:\", movie_1.get(\"Comment\"))\n",
        "\n",
        "# Updating an item's value by using an existing key \n",
        "new_rating = 10\n",
        "movie_1[\"Rating\"] = new_rating\n",
        "print(\"Rating:\", movie_1.get(\"Rating\"))"
      ]
    },
    {
      "cell_type": "code",
      "execution_count": null,
      "metadata": {
        "id": "eNaTRTkzFtb0"
      },
      "outputs": [],
      "source": [
        "# Let's check the changes\n",
        "print(movie_1)"
      ]
    },
    {
      "cell_type": "code",
      "execution_count": null,
      "metadata": {
        "id": "_zD5Pqn0Fxra"
      },
      "outputs": [],
      "source": [
        "# Let's remove the item with key Comment\n",
        "\n",
        "# pop() takes the key as argument\n",
        "movie_1.pop(\"Comment\")\n",
        "print(movie_1)"
      ]
    },
    {
      "cell_type": "markdown",
      "metadata": {
        "id": "6__0HeOd0XUs"
      },
      "source": [
        "# 5. Conditons"
      ]
    },
    {
      "cell_type": "markdown",
      "metadata": {
        "id": "V-1LXhRd0wb7"
      },
      "source": [
        "### 5.1 If statement"
      ]
    },
    {
      "cell_type": "code",
      "execution_count": null,
      "metadata": {
        "id": "JOg-604w00Gx"
      },
      "outputs": [],
      "source": [
        "if 2 == 2: # The condition is evaluated in a boolean context (it's either true or false)\n",
        "  print(\"True\") # This statement is executed if the condition is evaluated as true"
      ]
    },
    {
      "cell_type": "markdown",
      "metadata": {
        "id": "wkkd1ZcF2lA-"
      },
      "source": [
        "### 5.2 if ... else statement"
      ]
    },
    {
      "cell_type": "code",
      "execution_count": null,
      "metadata": {
        "id": "ord3jIF108Bs"
      },
      "outputs": [],
      "source": [
        "if 5 < 2:\n",
        "  print(\"True\")\n",
        "else:\n",
        "  print(\"False\") #This statement is executed if the first codition in the if statement is evaluated as false"
      ]
    },
    {
      "cell_type": "markdown",
      "metadata": {
        "id": "P5-7gETz23xm"
      },
      "source": [
        "### 5.3 if ... elif ... else"
      ]
    },
    {
      "cell_type": "code",
      "execution_count": null,
      "metadata": {
        "id": "Fof2Czrp2tQA"
      },
      "outputs": [],
      "source": [
        "a = 5\n",
        "#If there is more than 2 conditions, they can be specified with an elif statement\n",
        "if a < 4:\n",
        "  print(\"a < 4\")\n",
        "elif a < 6:\n",
        "  print(\"4 <= a <6\") \n",
        "else:\n",
        "  print(\"a >= 6\")"
      ]
    },
    {
      "cell_type": "markdown",
      "metadata": {
        "id": "gg4LXLSPD4Q9"
      },
      "source": [
        "### 5.4 '==' vs 'is'"
      ]
    },
    {
      "cell_type": "code",
      "execution_count": null,
      "metadata": {
        "id": "EiPEoCccD7vt"
      },
      "outputs": [],
      "source": [
        "# == compares the values of two objects \n",
        "# is evaluates if two variables point to the same object in memory\n",
        "\n",
        "a = [2, 4, 5]\n",
        "b = [2, 4, 5]\n",
        "\n",
        "print(b==a)"
      ]
    },
    {
      "cell_type": "code",
      "execution_count": null,
      "metadata": {
        "id": "CfcqLagTENxG"
      },
      "outputs": [],
      "source": [
        "a is b"
      ]
    },
    {
      "cell_type": "markdown",
      "metadata": {
        "id": "ug8Fv2EcOm4u"
      },
      "source": [
        "a is b is equal to the expression id(a) == id(b) where id returns the address of the object in memory. <br>\n",
        "The id() function tells you the memory location of the object pointed to by the variable name, not anything about the variable name itself"
      ]
    },
    {
      "cell_type": "markdown",
      "metadata": {
        "id": "DbXa0Jb6-gB2"
      },
      "source": [
        "### ⭐ Bonus"
      ]
    },
    {
      "cell_type": "markdown",
      "metadata": {
        "id": "9Vhkrm2f-ivc"
      },
      "source": [
        "#### assert Statement"
      ]
    },
    {
      "cell_type": "markdown",
      "metadata": {
        "id": "TNA7zbfYPlb4"
      },
      "source": [
        "Assertions are the condition or boolean expression which are always supposed to be true in the code. If they're not true, an error is thrown. <br><br>\n",
        "Why use them? <br>\n",
        "Among manye other uses, the assert statement can be used in a notebook environement to quickly check whether two objects are equal"
      ]
    },
    {
      "cell_type": "code",
      "execution_count": null,
      "metadata": {
        "id": "TPYndC2LQLaV"
      },
      "outputs": [],
      "source": [
        "# instructions\n",
        "x = 5\n",
        "assert x == 3\n",
        "# other instructions\n",
        "x = x + 3"
      ]
    },
    {
      "cell_type": "markdown",
      "metadata": {
        "id": "WLluJvTg-k35"
      },
      "source": [
        "#### Ternary Operator"
      ]
    },
    {
      "cell_type": "markdown",
      "metadata": {
        "id": "yBBY87zHQdXl"
      },
      "source": [
        "A terary operator allows to write a conditional if else statement in on line"
      ]
    },
    {
      "cell_type": "code",
      "execution_count": null,
      "metadata": {
        "id": "cfZiSP80-hTP"
      },
      "outputs": [],
      "source": [
        "# let's take en example\n",
        "a  = 2\n",
        "b = 3\n",
        "\n",
        "if a == b:\n",
        "  print('a is equal to b')\n",
        "else:\n",
        "  print('a is not equal to b')"
      ]
    },
    {
      "cell_type": "code",
      "execution_count": null,
      "metadata": {
        "id": "GDGmJHYZQuD0"
      },
      "outputs": [],
      "source": [
        "# same conditional expression written in ternary operator\n",
        "print('a is equal to b') if a == b else print('a is not equal to b')"
      ]
    },
    {
      "cell_type": "markdown",
      "metadata": {
        "id": "JwbzmpM6G8PD"
      },
      "source": [
        "# 6. Loops"
      ]
    },
    {
      "cell_type": "markdown",
      "metadata": {
        "id": "ZN463wPzHLbb"
      },
      "source": [
        "Now we will learn how to iterate over a sequence of elements using the different variations of loops."
      ]
    },
    {
      "cell_type": "code",
      "execution_count": null,
      "metadata": {
        "id": "kvsanFTbHRY7"
      },
      "outputs": [],
      "source": [
        "# Iterating over the elements of a list\n",
        "\n",
        "# Let's iterate and sum postives numbers!\n",
        "numbers = [1,1,2,3,5,8,13,21,34,55,89,-89,-55]\n",
        "\n",
        "sum = 0\n",
        "for number in numbers:\n",
        "  if number > 0:\n",
        "    sum = sum + number\n",
        "\n",
        "print(\"Sum =\",sum)"
      ]
    },
    {
      "cell_type": "code",
      "execution_count": null,
      "metadata": {
        "id": "kOw_rJZ_HfAr"
      },
      "outputs": [],
      "source": [
        "# Iterating over the elements of a tuple\n",
        "# let's loop over movies and concatenate all movies in one a string\n",
        "\n",
        "movies = ('Interstellar','Jumanji','The Godfather','The Dark Knight','The Hustle','The Imitation Game')\n",
        "my_movies = \"My favorites movies are : \"\n",
        "\n",
        "for movie in movies:\n",
        "  my_movies = my_movies + movie + \" / \"\n",
        "\n",
        "print(my_movies)"
      ]
    },
    {
      "cell_type": "code",
      "execution_count": null,
      "metadata": {
        "id": "FvY_8Cy_Z5vf"
      },
      "outputs": [],
      "source": [
        "for i in range (len(movies)):\n",
        "    print(\"The {} movie is {}\".format(i+1,movies[i]))"
      ]
    },
    {
      "cell_type": "code",
      "execution_count": null,
      "metadata": {
        "id": "TUzQbLC0Z5vf"
      },
      "outputs": [],
      "source": [
        "# Find all the movies indexed by an even number\n",
        "for j in range(0,len(movies),2):\n",
        "    print(\"Index {} : {}\".format(j,movies[j]))"
      ]
    },
    {
      "cell_type": "code",
      "execution_count": null,
      "metadata": {
        "id": "Po8jOL22Hgur"
      },
      "outputs": [],
      "source": [
        "# Loops and dictionaries\n",
        "movie_1 = {\n",
        "    # key:value\n",
        "    \"ID\":1,\n",
        "    \"Title\":'Interstellar',\n",
        "    \"Genre\":'Science Fiction',\n",
        "    \"Release Year\":2014,\n",
        "    \"Rating\":8.5\n",
        "    }\n",
        "  \n",
        "## Iterating over the keys of a dictionary \n",
        "for key in movie_1.keys():\n",
        "  print(key)"
      ]
    },
    {
      "cell_type": "code",
      "execution_count": null,
      "metadata": {
        "id": "WGjLTpg8JqO8"
      },
      "outputs": [],
      "source": [
        "## Iterating over the values of a dictionary \n",
        "\n",
        "for value in movie_1.values():\n",
        "  print(value)"
      ]
    },
    {
      "cell_type": "code",
      "execution_count": null,
      "metadata": {
        "id": "TVeFfLcRJrQj"
      },
      "outputs": [],
      "source": [
        "## Iterating using items()\n",
        "\n",
        "for item in movie_1.items():\n",
        "  print(item)\n",
        "\n",
        "# What's the type of item? --> a tuple (key,value)"
      ]
    },
    {
      "cell_type": "code",
      "execution_count": null,
      "metadata": {
        "id": "Mtja0SZ6KVF-"
      },
      "outputs": [],
      "source": [
        "## Iterating over pairs of (key,value) of a dictionary \n",
        "\n",
        "for key, value in movie_1.items():\n",
        "  print(key,\":\", value)"
      ]
    },
    {
      "cell_type": "markdown",
      "metadata": {
        "id": "AhCoKqa3RJhH"
      },
      "source": [
        "# 7. Functions"
      ]
    },
    {
      "cell_type": "markdown",
      "metadata": {
        "id": "TIw0JsORSLU_"
      },
      "source": [
        "Like in any other programming language, a function is a block of code that's only run when it's called."
      ]
    },
    {
      "cell_type": "code",
      "execution_count": null,
      "metadata": {
        "id": "mySMf-r1RKRO"
      },
      "outputs": [],
      "source": [
        "def my_function():\n",
        "  print(\"Hello from function\")"
      ]
    },
    {
      "cell_type": "code",
      "execution_count": null,
      "metadata": {
        "id": "tPJ0ts6TSY27"
      },
      "outputs": [],
      "source": [
        "my_function()"
      ]
    },
    {
      "cell_type": "markdown",
      "metadata": {
        "id": "EcluFrgXSjYh"
      },
      "source": [
        "Parameters can be passed to functions"
      ]
    },
    {
      "cell_type": "code",
      "execution_count": null,
      "metadata": {
        "id": "-aeoIx5WSaiZ"
      },
      "outputs": [],
      "source": [
        "def my_function_2(name):\n",
        "  print(\"Hello my name is \"+ name)"
      ]
    },
    {
      "cell_type": "code",
      "execution_count": null,
      "metadata": {
        "id": "3tg5DexxSqhS"
      },
      "outputs": [],
      "source": [
        "my_function_2(\"Christopher Nolan\")"
      ]
    },
    {
      "cell_type": "markdown",
      "metadata": {
        "id": "621u7hpISxC4"
      },
      "source": [
        "We can also pass default parameters to the function. The parameters' values are set in the function definition and will remain the same unless changed in the function **call**"
      ]
    },
    {
      "cell_type": "code",
      "execution_count": null,
      "metadata": {
        "id": "bc0x4RGTSs4s"
      },
      "outputs": [],
      "source": [
        "def my_function_3(name, location = \"Warner Studios\"):\n",
        "  print(\"Hello my name is \"+name +\" and I'm currently in \"+location)"
      ]
    },
    {
      "cell_type": "code",
      "execution_count": null,
      "metadata": {
        "id": "X77fPPF-Twtu"
      },
      "outputs": [],
      "source": [
        "my_function_3(\"Kubrick\")"
      ]
    },
    {
      "cell_type": "code",
      "execution_count": null,
      "metadata": {
        "id": "R8o3OItvTyeJ"
      },
      "outputs": [],
      "source": [
        "my_function_3(\"Kubrick\", location=\"Warnr Studios Section A\")"
      ]
    },
    {
      "cell_type": "markdown",
      "metadata": {
        "id": "HwqFBs5XUJsu"
      },
      "source": [
        "In case the number of parametrs isn't initally known, an * can be added before the parameter name "
      ]
    },
    {
      "cell_type": "code",
      "execution_count": null,
      "metadata": {
        "id": "I_2TV317UZcU"
      },
      "outputs": [],
      "source": [
        "def my_function_4(*names):\n",
        "  print(\"My name is  \" + names[2])\n",
        "\n",
        "my_function_4(\"DiCaprio\", \"Kubrick\", \"Fincher\",\"Pitt\",\"Tarantino\")"
      ]
    },
    {
      "cell_type": "markdown",
      "metadata": {
        "id": "cLZR-t7lUw7E"
      },
      "source": [
        "In case the number of key word parametrs isn't initally known, ** can be added before the parameter name"
      ]
    },
    {
      "cell_type": "code",
      "execution_count": null,
      "metadata": {
        "id": "vHkg54YuUZ8m"
      },
      "outputs": [],
      "source": [
        "def my_function_5(name3, name2, name1):\n",
        "  print(\"My name is  \" + name3)\n",
        "\n",
        "my_function_5(name1 = \"Tarantino\", name2 = \"Kubrick\", name3 = \"Pitt\")"
      ]
    },
    {
      "cell_type": "markdown",
      "metadata": {
        "id": "HinHx4qkVmvT"
      },
      "source": [
        "You can use a return statement to return multiple values from a function"
      ]
    },
    {
      "cell_type": "code",
      "execution_count": null,
      "metadata": {
        "id": "h2EpHXq5U7PO"
      },
      "outputs": [],
      "source": [
        "import statistics as st\n",
        "\n",
        "def describe(sample):\n",
        "    return st.mean(sample), st.median(sample), st.mode(sample)"
      ]
    },
    {
      "cell_type": "code",
      "execution_count": null,
      "metadata": {
        "id": "BtgLOFfCVwru"
      },
      "outputs": [],
      "source": [
        "sample = [10, 2, 4, 7, 9, 3, 8, 6, 7]\n",
        "mean, median, mode = describe(sample)"
      ]
    },
    {
      "cell_type": "code",
      "execution_count": null,
      "metadata": {
        "colab": {
          "base_uri": "https://localhost:8080/"
        },
        "id": "kz4-_E-8WbcC",
        "outputId": "ac4732e8-af06-4f34-e99d-0712f285d958"
      },
      "outputs": [],
      "source": [
        "print(\"Mean: {}\\nMedian: {}\\nMode: {}\".format(mean, median,mode))"
      ]
    },
    {
      "cell_type": "markdown",
      "metadata": {
        "id": "V-AnI_nPWFdz"
      },
      "source": [
        "This is called unpacking. The function returns a tuple and each element gets assigned to a variable "
      ]
    },
    {
      "cell_type": "code",
      "execution_count": null,
      "metadata": {
        "id": "t4X9HnzTV3eJ"
      },
      "outputs": [],
      "source": [
        "#the return values can be stored in a tuple instead of unpacking them\n",
        "desc = describe(sample)"
      ]
    },
    {
      "cell_type": "code",
      "execution_count": null,
      "metadata": {
        "colab": {
          "base_uri": "https://localhost:8080/"
        },
        "id": "YuUFMHH6WY1_",
        "outputId": "3f9391dc-4ff6-4e72-ea98-aa23a1170606"
      },
      "outputs": [],
      "source": [
        "desc"
      ]
    },
    {
      "cell_type": "code",
      "execution_count": null,
      "metadata": {
        "colab": {
          "base_uri": "https://localhost:8080/"
        },
        "id": "gbniXGFpZ5vi",
        "outputId": "1d49ee99-4147-4c56-bb2c-a257431acaa4"
      },
      "outputs": [],
      "source": [
        "type(desc)"
      ]
    },
    {
      "cell_type": "markdown",
      "metadata": {
        "id": "hvrn-4wPaIiT"
      },
      "source": [
        "**Lambda Function**"
      ]
    },
    {
      "cell_type": "code",
      "execution_count": null,
      "metadata": {
        "colab": {
          "base_uri": "https://localhost:8080/"
        },
        "id": "62VnrxTFaH5w",
        "outputId": "aef5a7ca-5cab-4865-adce-5fb3cf9135a1"
      },
      "outputs": [],
      "source": [
        "res = lambda a : a[0]**2\n",
        "print(res(desc)) #11"
      ]
    },
    {
      "cell_type": "code",
      "execution_count": null,
      "metadata": {
        "colab": {
          "base_uri": "https://localhost:8080/"
        },
        "id": "hHm6W1GpbmUq",
        "outputId": "cb8c8bc8-453f-4797-8325-1e4658b027de"
      },
      "outputs": [],
      "source": [
        "robot = lambda ch : ch[:6]\n",
        "ch = \"Sophia is a social humanoid robot developed by the Hong Kong-based company\"\n",
        "print(robot(ch)) "
      ]
    }
  ],
  "metadata": {
    "colab": {
      "collapsed_sections": [
        "M5wUZ-S76Kop",
        "TzoFCfFZ7F66"
      ],
      "provenance": [],
      "toc_visible": true
    },
    "kernelspec": {
      "display_name": "Python 3 (ipykernel)",
      "language": "python",
      "name": "python3"
    },
    "language_info": {
      "codemirror_mode": {
        "name": "ipython",
        "version": 3
      },
      "file_extension": ".py",
      "mimetype": "text/x-python",
      "name": "python",
      "nbconvert_exporter": "python",
      "pygments_lexer": "ipython3",
      "version": "3.9.12"
    }
  },
  "nbformat": 4,
  "nbformat_minor": 0
}
